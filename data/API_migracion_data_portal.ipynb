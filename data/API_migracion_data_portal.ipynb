{
 "cells": [
  {
   "cell_type": "markdown",
   "id": "54e4860c",
   "metadata": {},
   "source": [
    "url = https://www.migrationdataportal.org/es/node/499391"
   ]
  },
  {
   "cell_type": "markdown",
   "id": "a68756aa",
   "metadata": {},
   "source": [
    "url informe trimenstral refugiados acnur\n",
    "https://www.acnur.org/media/informe-semestral-de-tendencias-2024"
   ]
  },
  {
   "cell_type": "markdown",
   "id": "fc973313",
   "metadata": {},
   "source": [
    "url índices de libertad por país 2024\n",
    "https://freedomhouse.org/country/scores"
   ]
  }
 ],
 "metadata": {
  "language_info": {
   "name": "python"
  }
 },
 "nbformat": 4,
 "nbformat_minor": 5
}
